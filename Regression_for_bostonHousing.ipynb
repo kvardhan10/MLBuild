{
 "cells": [
  {
   "cell_type": "code",
   "execution_count": 15,
   "id": "c1acc082",
   "metadata": {},
   "outputs": [],
   "source": [
    "from sklearn import metrics, linear_model, datasets\n",
    "from sklearn.model_selection import train_test_split\n",
    "from matplotlib import pyplot as plt"
   ]
  },
  {
   "cell_type": "markdown",
   "id": "6fe1ee4a",
   "metadata": {},
   "source": [
    "### Linear Regression\n",
    "\n",
    "![Works on my localhost :)](img/linear_reg.png)"
   ]
  },
  {
   "cell_type": "markdown",
   "id": "481c463b",
   "metadata": {},
   "source": [
    "- Datapoints are linear in nature\n",
    "- The line is linear and near to the datapoints, aka as R2\n",
    "- Since, its linear - its of the form y=mx + b\n",
    "- b is the intercept point of R2 on y-axis\n",
    "- m is the slope (dy/dx)\n",
    "- x is any valid datapoint"
   ]
  },
  {
   "cell_type": "code",
   "execution_count": 7,
   "id": "9d498f86",
   "metadata": {},
   "outputs": [
    {
     "data": {
      "text/plain": [
       "{'data': array([[6.3200e-03, 1.8000e+01, 2.3100e+00, ..., 1.5300e+01, 3.9690e+02,\n",
       "         4.9800e+00],\n",
       "        [2.7310e-02, 0.0000e+00, 7.0700e+00, ..., 1.7800e+01, 3.9690e+02,\n",
       "         9.1400e+00],\n",
       "        [2.7290e-02, 0.0000e+00, 7.0700e+00, ..., 1.7800e+01, 3.9283e+02,\n",
       "         4.0300e+00],\n",
       "        ...,\n",
       "        [6.0760e-02, 0.0000e+00, 1.1930e+01, ..., 2.1000e+01, 3.9690e+02,\n",
       "         5.6400e+00],\n",
       "        [1.0959e-01, 0.0000e+00, 1.1930e+01, ..., 2.1000e+01, 3.9345e+02,\n",
       "         6.4800e+00],\n",
       "        [4.7410e-02, 0.0000e+00, 1.1930e+01, ..., 2.1000e+01, 3.9690e+02,\n",
       "         7.8800e+00]]),\n",
       " 'target': array([24. , 21.6, 34.7, 33.4, 36.2, 28.7, 22.9, 27.1, 16.5, 18.9, 15. ,\n",
       "        18.9, 21.7, 20.4, 18.2, 19.9, 23.1, 17.5, 20.2, 18.2, 13.6, 19.6,\n",
       "        15.2, 14.5, 15.6, 13.9, 16.6, 14.8, 18.4, 21. , 12.7, 14.5, 13.2,\n",
       "        13.1, 13.5, 18.9, 20. , 21. , 24.7, 30.8, 34.9, 26.6, 25.3, 24.7,\n",
       "        21.2, 19.3, 20. , 16.6, 14.4, 19.4, 19.7, 20.5, 25. , 23.4, 18.9,\n",
       "        35.4, 24.7, 31.6, 23.3, 19.6, 18.7, 16. , 22.2, 25. , 33. , 23.5,\n",
       "        19.4, 22. , 17.4, 20.9, 24.2, 21.7, 22.8, 23.4, 24.1, 21.4, 20. ,\n",
       "        20.8, 21.2, 20.3, 28. , 23.9, 24.8, 22.9, 23.9, 26.6, 22.5, 22.2,\n",
       "        23.6, 28.7, 22.6, 22. , 22.9, 25. , 20.6, 28.4, 21.4, 38.7, 43.8,\n",
       "        33.2, 27.5, 26.5, 18.6, 19.3, 20.1, 19.5, 19.5, 20.4, 19.8, 19.4,\n",
       "        21.7, 22.8, 18.8, 18.7, 18.5, 18.3, 21.2, 19.2, 20.4, 19.3, 22. ,\n",
       "        20.3, 20.5, 17.3, 18.8, 21.4, 15.7, 16.2, 18. , 14.3, 19.2, 19.6,\n",
       "        23. , 18.4, 15.6, 18.1, 17.4, 17.1, 13.3, 17.8, 14. , 14.4, 13.4,\n",
       "        15.6, 11.8, 13.8, 15.6, 14.6, 17.8, 15.4, 21.5, 19.6, 15.3, 19.4,\n",
       "        17. , 15.6, 13.1, 41.3, 24.3, 23.3, 27. , 50. , 50. , 50. , 22.7,\n",
       "        25. , 50. , 23.8, 23.8, 22.3, 17.4, 19.1, 23.1, 23.6, 22.6, 29.4,\n",
       "        23.2, 24.6, 29.9, 37.2, 39.8, 36.2, 37.9, 32.5, 26.4, 29.6, 50. ,\n",
       "        32. , 29.8, 34.9, 37. , 30.5, 36.4, 31.1, 29.1, 50. , 33.3, 30.3,\n",
       "        34.6, 34.9, 32.9, 24.1, 42.3, 48.5, 50. , 22.6, 24.4, 22.5, 24.4,\n",
       "        20. , 21.7, 19.3, 22.4, 28.1, 23.7, 25. , 23.3, 28.7, 21.5, 23. ,\n",
       "        26.7, 21.7, 27.5, 30.1, 44.8, 50. , 37.6, 31.6, 46.7, 31.5, 24.3,\n",
       "        31.7, 41.7, 48.3, 29. , 24. , 25.1, 31.5, 23.7, 23.3, 22. , 20.1,\n",
       "        22.2, 23.7, 17.6, 18.5, 24.3, 20.5, 24.5, 26.2, 24.4, 24.8, 29.6,\n",
       "        42.8, 21.9, 20.9, 44. , 50. , 36. , 30.1, 33.8, 43.1, 48.8, 31. ,\n",
       "        36.5, 22.8, 30.7, 50. , 43.5, 20.7, 21.1, 25.2, 24.4, 35.2, 32.4,\n",
       "        32. , 33.2, 33.1, 29.1, 35.1, 45.4, 35.4, 46. , 50. , 32.2, 22. ,\n",
       "        20.1, 23.2, 22.3, 24.8, 28.5, 37.3, 27.9, 23.9, 21.7, 28.6, 27.1,\n",
       "        20.3, 22.5, 29. , 24.8, 22. , 26.4, 33.1, 36.1, 28.4, 33.4, 28.2,\n",
       "        22.8, 20.3, 16.1, 22.1, 19.4, 21.6, 23.8, 16.2, 17.8, 19.8, 23.1,\n",
       "        21. , 23.8, 23.1, 20.4, 18.5, 25. , 24.6, 23. , 22.2, 19.3, 22.6,\n",
       "        19.8, 17.1, 19.4, 22.2, 20.7, 21.1, 19.5, 18.5, 20.6, 19. , 18.7,\n",
       "        32.7, 16.5, 23.9, 31.2, 17.5, 17.2, 23.1, 24.5, 26.6, 22.9, 24.1,\n",
       "        18.6, 30.1, 18.2, 20.6, 17.8, 21.7, 22.7, 22.6, 25. , 19.9, 20.8,\n",
       "        16.8, 21.9, 27.5, 21.9, 23.1, 50. , 50. , 50. , 50. , 50. , 13.8,\n",
       "        13.8, 15. , 13.9, 13.3, 13.1, 10.2, 10.4, 10.9, 11.3, 12.3,  8.8,\n",
       "         7.2, 10.5,  7.4, 10.2, 11.5, 15.1, 23.2,  9.7, 13.8, 12.7, 13.1,\n",
       "        12.5,  8.5,  5. ,  6.3,  5.6,  7.2, 12.1,  8.3,  8.5,  5. , 11.9,\n",
       "        27.9, 17.2, 27.5, 15. , 17.2, 17.9, 16.3,  7. ,  7.2,  7.5, 10.4,\n",
       "         8.8,  8.4, 16.7, 14.2, 20.8, 13.4, 11.7,  8.3, 10.2, 10.9, 11. ,\n",
       "         9.5, 14.5, 14.1, 16.1, 14.3, 11.7, 13.4,  9.6,  8.7,  8.4, 12.8,\n",
       "        10.5, 17.1, 18.4, 15.4, 10.8, 11.8, 14.9, 12.6, 14.1, 13. , 13.4,\n",
       "        15.2, 16.1, 17.8, 14.9, 14.1, 12.7, 13.5, 14.9, 20. , 16.4, 17.7,\n",
       "        19.5, 20.2, 21.4, 19.9, 19. , 19.1, 19.1, 20.1, 19.9, 19.6, 23.2,\n",
       "        29.8, 13.8, 13.3, 16.7, 12. , 14.6, 21.4, 23. , 23.7, 25. , 21.8,\n",
       "        20.6, 21.2, 19.1, 20.6, 15.2,  7. ,  8.1, 13.6, 20.1, 21.8, 24.5,\n",
       "        23.1, 19.7, 18.3, 21.2, 17.5, 16.8, 22.4, 20.6, 23.9, 22. , 11.9]),\n",
       " 'feature_names': array(['CRIM', 'ZN', 'INDUS', 'CHAS', 'NOX', 'RM', 'AGE', 'DIS', 'RAD',\n",
       "        'TAX', 'PTRATIO', 'B', 'LSTAT'], dtype='<U7'),\n",
       " 'DESCR': \".. _boston_dataset:\\n\\nBoston house prices dataset\\n---------------------------\\n\\n**Data Set Characteristics:**  \\n\\n    :Number of Instances: 506 \\n\\n    :Number of Attributes: 13 numeric/categorical predictive. Median Value (attribute 14) is usually the target.\\n\\n    :Attribute Information (in order):\\n        - CRIM     per capita crime rate by town\\n        - ZN       proportion of residential land zoned for lots over 25,000 sq.ft.\\n        - INDUS    proportion of non-retail business acres per town\\n        - CHAS     Charles River dummy variable (= 1 if tract bounds river; 0 otherwise)\\n        - NOX      nitric oxides concentration (parts per 10 million)\\n        - RM       average number of rooms per dwelling\\n        - AGE      proportion of owner-occupied units built prior to 1940\\n        - DIS      weighted distances to five Boston employment centres\\n        - RAD      index of accessibility to radial highways\\n        - TAX      full-value property-tax rate per $10,000\\n        - PTRATIO  pupil-teacher ratio by town\\n        - B        1000(Bk - 0.63)^2 where Bk is the proportion of blacks by town\\n        - LSTAT    % lower status of the population\\n        - MEDV     Median value of owner-occupied homes in $1000's\\n\\n    :Missing Attribute Values: None\\n\\n    :Creator: Harrison, D. and Rubinfeld, D.L.\\n\\nThis is a copy of UCI ML housing dataset.\\nhttps://archive.ics.uci.edu/ml/machine-learning-databases/housing/\\n\\n\\nThis dataset was taken from the StatLib library which is maintained at Carnegie Mellon University.\\n\\nThe Boston house-price data of Harrison, D. and Rubinfeld, D.L. 'Hedonic\\nprices and the demand for clean air', J. Environ. Economics & Management,\\nvol.5, 81-102, 1978.   Used in Belsley, Kuh & Welsch, 'Regression diagnostics\\n...', Wiley, 1980.   N.B. Various transformations are used in the table on\\npages 244-261 of the latter.\\n\\nThe Boston house-price data has been used in many machine learning papers that address regression\\nproblems.   \\n     \\n.. topic:: References\\n\\n   - Belsley, Kuh & Welsch, 'Regression diagnostics: Identifying Influential Data and Sources of Collinearity', Wiley, 1980. 244-261.\\n   - Quinlan,R. (1993). Combining Instance-Based and Model-Based Learning. In Proceedings on the Tenth International Conference of Machine Learning, 236-243, University of Massachusetts, Amherst. Morgan Kaufmann.\\n\",\n",
       " 'filename': 'C:\\\\Users\\\\ankan\\\\anaconda3\\\\lib\\\\site-packages\\\\sklearn\\\\datasets\\\\data\\\\boston_house_prices.csv'}"
      ]
     },
     "execution_count": 7,
     "metadata": {},
     "output_type": "execute_result"
    }
   ],
   "source": [
    "boston = datasets.load_boston()\n",
    "boston"
   ]
  },
  {
   "cell_type": "code",
   "execution_count": 6,
   "id": "1fa43782",
   "metadata": {},
   "outputs": [
    {
     "name": "stdout",
     "output_type": "stream",
     "text": [
      "(506, 13)\n"
     ]
    },
    {
     "data": {
      "text/plain": [
       "(506,)"
      ]
     },
     "execution_count": 6,
     "metadata": {},
     "output_type": "execute_result"
    }
   ],
   "source": [
    "X = boston.data\n",
    "y = boston.target\n",
    "print(X.shape)\n",
    "y.shape\n"
   ]
  },
  {
   "cell_type": "code",
   "execution_count": 8,
   "id": "1e48806c",
   "metadata": {},
   "outputs": [
    {
     "data": {
      "text/plain": [
       "LinearRegression()"
      ]
     },
     "execution_count": 8,
     "metadata": {},
     "output_type": "execute_result"
    }
   ],
   "source": [
    "lreg = linear_model.LinearRegression()\n",
    "lreg"
   ]
  },
  {
   "cell_type": "code",
   "execution_count": 11,
   "id": "7820af03",
   "metadata": {},
   "outputs": [
    {
     "data": {
      "image/png": "[encoded data removed]",
      "text/plain": [
       "<Figure size 432x288 with 1 Axes>"
      ]
     },
     "metadata": {
      "needs_background": "light"
     },
     "output_type": "display_data"
    }
   ],
   "source": [
    "plt.scatter(X[:, 0], y) #all columns, but zeroth(first) row -> as good as X.T[0], X is (506, 13) and X.T becomes(13, 506)\n",
    "plt.show()"
   ]
  },
  {
   "cell_type": "code",
   "execution_count": 12,
   "id": "1c2204fb",
   "metadata": {},
   "outputs": [],
   "source": [
    "X_train, X_test, y_train, y_test = train_test_split(X, y, test_size=0.2)"
   ]
  },
  {
   "cell_type": "code",
   "execution_count": 18,
   "id": "86a91d1c",
   "metadata": {},
   "outputs": [
    {
     "name": "stdout",
     "output_type": "stream",
     "text": [
      "Predictions:  [29.66226213 22.21999203 23.04449346 24.03366197 13.22391202 29.11181492\n",
      " 20.24430227 23.8326099   0.46289965 11.33688519 29.05749532 31.57172645\n",
      " 30.56850041 11.80014849 19.96265909 24.98457503 12.58499439 35.34868267\n",
      " 26.50435033 22.89430285 17.45269412 24.65341498 32.78009189 22.77348532\n",
      " 20.31349199 22.12974163 13.36915425 43.64471963 32.96754601 37.67981847\n",
      " 16.92059777 28.17702551 26.74090194 28.74522941 20.91809407 25.42639314\n",
      " 16.04685102 26.04976533 22.58779546 22.8173867  19.01157618 20.50348521\n",
      " 28.75497277 31.29838982 19.08685226 26.32702106 17.20993047 29.39619466\n",
      " 26.85833099 32.13876236 12.60612561 18.72564766 23.81975682 24.88117473\n",
      " 18.72278714 22.97527251 11.03824588 25.1860721  12.42434976 20.44057108\n",
      " 21.65398133 11.29519854 23.19362979 16.92786994 17.40610727 24.01927267\n",
      " 17.29168058 22.06107135 18.85820211 14.01988973 19.46911229  6.2522372\n",
      " 14.65081347 12.00926271 24.52242533 17.59664487 20.72945327 22.56679984\n",
      " 30.89753218 21.19988751  8.73540786 19.11295725 17.07924162 13.01016522\n",
      " 20.95088494 28.72080725 24.59198517 21.55100231 20.34615382 19.37540343\n",
      " 19.99145406 19.19164057 41.19292561 13.68610559 16.53419908 14.73203511\n",
      " 34.87939798 17.82715562 22.36081076 20.81641452 35.52156889 18.99131047]\n",
      "Actual values:  [25.  23.1 20.3 23.4 19.  26.4 18.3 22.2 17.9 12.  28.6 30.8 24.8 13.5\n",
      " 19.4 22.9 13.1 33.1 24.1 20.3 23.2 22.6 31.5 23.8 17.7 16.5 11.3 50.\n",
      " 37.2 48.3 19.4 23.9 22.3 26.6 20.4 23.1 13.3 24.2 17.  19.8 10.9 24.1\n",
      " 28.  29.9 18.5 23.8 13.  22.9 23.2 27.9 27.5 16.1 21.9 21.6 15.  21.2\n",
      " 16.5 22.8  5.6 19.3 23.3  6.3 20.  17.5 17.8 24.3 18.7 19.3 19.9 13.1\n",
      " 27.9 10.2 21.9 13.8 23.1 17.8 18.7 21.2 34.7 19.  14.4 27.1 14.9  8.3\n",
      " 19.2 33.4 24.4 21.2 17.1 19.9 19.5 18.3 48.8 14.5 20.6 14.  34.9 14.5\n",
      " 22.7 13.3 33.4 16.4]\n",
      "R^2:  0.7381279325087189\n",
      "Co_eff :  [-9.13360342e-02  4.52415029e-02  6.31825971e-02  2.82298703e+00\n",
      " -1.74902148e+01  4.35550326e+00 -1.16822502e-02 -1.50998294e+00\n",
      "  2.50865202e-01 -1.07771576e-02 -8.87929961e-01  1.24381948e-02\n",
      " -4.95387580e-01]\n",
      "Intercept:  30.597776290544555\n"
     ]
    }
   ],
   "source": [
    "model = lreg.fit(X_train, y_train)\n",
    "pred = model.predict(X_test)\n",
    "print('Predictions: ', pred)\n",
    "print('Actual values: ', y_test)\n",
    "print('R^2: ', lreg.score(X, y))\n",
    "print('Co_eff : ', lreg.coef_)\n",
    "print('Intercept: ', lreg.intercept_)"
   ]
  },
  {
   "cell_type": "code",
   "execution_count": 37,
   "id": "122e9a0a",
   "metadata": {},
   "outputs": [
    {
     "data": {
      "text/plain": [
       "array([29.74120039])"
      ]
     },
     "execution_count": 37,
     "metadata": {},
     "output_type": "execute_result"
    }
   ],
   "source": [
    "import numpy as np\n",
    "demo_test = np.array([[0.028, 28.00, 15.04, 0, 0.460, 6.211, 28.90, 3.66, 4.00, 270.0, 18.20, 396.33, 6.21]])\n",
    "\n",
    "demo_pred = model.predict(demo_test)\n",
    "demo_pred\n",
    "# this is how a typical user-input would work. For confirmation, demo_test is actually X[0] and pred is as same as y[0]\n",
    "#NOICEE!!"
   ]
  },
  {
   "cell_type": "markdown",
   "id": "98601c83",
   "metadata": {},
   "source": [
    "---"
   ]
  },
  {
   "cell_type": "markdown",
   "id": "8aad2019",
   "metadata": {},
   "source": [
    "### Logistic Regression\n",
    "\n",
    "![Works on my localhost :)](img/logistic_reg1.png)\n",
    "\n",
    "- In this case linear regression doesn't make any sense because, datapoints are scattered\n",
    "- Any other point far from the training set becomes insignificant\n",
    "- In this, we make use of logistic regression\n",
    "- The line is linear, so y = mx + b, but y will be applied in logit function, **logit(y)**\n",
    "\n",
    "![Works on my localhost :)](img/logistic_reg2.png)"
   ]
  },
  {
   "cell_type": "markdown",
   "id": "bf10345f",
   "metadata": {},
   "source": [
    "**logit(y) = 1/(1+e^-y)**\n",
    "- if y < 1, e^(-ve integer) is more than 1 and 1/(more than 1) will result in 0.*something*, thus values at the bottom\n",
    "- if y > 1, e^(+ve integer) is less than 1 and 1/(less than 1) will result in 1.*something*, thus values at the top\n",
    "- Ergo, logit(y) is a **Sigmoid Function**"
   ]
  }
 ],
 "metadata": {
  "kernelspec": {
   "display_name": "Python 3",
   "language": "python",
   "name": "python3"
  },
  "language_info": {
   "codemirror_mode": {
    "name": "ipython",
    "version": 3
   },
   "file_extension": ".py",
   "mimetype": "text/x-python",
   "name": "python",
   "nbconvert_exporter": "python",
   "pygments_lexer": "ipython3",
   "version": "3.8.8"
  }
 },
 "nbformat": 4,
 "nbformat_minor": 5
}
