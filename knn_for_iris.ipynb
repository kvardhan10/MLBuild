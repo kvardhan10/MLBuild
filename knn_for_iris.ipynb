{
 "cells": [
  {
   "cell_type": "code",
   "execution_count": 10,
   "id": "dc93ffb0",
   "metadata": {},
   "outputs": [],
   "source": [
    "from sklearn import datasets, neighbors, metrics\n",
    "from sklearn.metrics import confusion_matrix\n",
    "import numpy as np"
   ]
  },
  {
   "cell_type": "code",
   "execution_count": 11,
   "id": "81796a00",
   "metadata": {},
   "outputs": [],
   "source": [
    "iris = datasets.load_iris()"
   ]
  },
  {
   "cell_type": "code",
   "execution_count": 12,
   "id": "93f638b9",
   "metadata": {},
   "outputs": [
    {
     "data": {
      "text/plain": [
       "{'data': array([[5.1, 3.5, 1.4, 0.2],\n",
       "        [4.9, 3. , 1.4, 0.2],\n",
       "        [4.7, 3.2, 1.3, 0.2],\n",
       "        [4.6, 3.1, 1.5, 0.2],\n",
       "        [5. , 3.6, 1.4, 0.2],\n",
       "        [5.4, 3.9, 1.7, 0.4],\n",
       "        [4.6, 3.4, 1.4, 0.3],\n",
       "        [5. , 3.4, 1.5, 0.2],\n",
       "        [4.4, 2.9, 1.4, 0.2],\n",
       "        [4.9, 3.1, 1.5, 0.1],\n",
       "        [5.4, 3.7, 1.5, 0.2],\n",
       "        [4.8, 3.4, 1.6, 0.2],\n",
       "        [4.8, 3. , 1.4, 0.1],\n",
       "        [4.3, 3. , 1.1, 0.1],\n",
       "        [5.8, 4. , 1.2, 0.2],\n",
       "        [5.7, 4.4, 1.5, 0.4],\n",
       "        [5.4, 3.9, 1.3, 0.4],\n",
       "        [5.1, 3.5, 1.4, 0.3],\n",
       "        [5.7, 3.8, 1.7, 0.3],\n",
       "        [5.1, 3.8, 1.5, 0.3],\n",
       "        [5.4, 3.4, 1.7, 0.2],\n",
       "        [5.1, 3.7, 1.5, 0.4],\n",
       "        [4.6, 3.6, 1. , 0.2],\n",
       "        [5.1, 3.3, 1.7, 0.5],\n",
       "        [4.8, 3.4, 1.9, 0.2],\n",
       "        [5. , 3. , 1.6, 0.2],\n",
       "        [5. , 3.4, 1.6, 0.4],\n",
       "        [5.2, 3.5, 1.5, 0.2],\n",
       "        [5.2, 3.4, 1.4, 0.2],\n",
       "        [4.7, 3.2, 1.6, 0.2],\n",
       "        [4.8, 3.1, 1.6, 0.2],\n",
       "        [5.4, 3.4, 1.5, 0.4],\n",
       "        [5.2, 4.1, 1.5, 0.1],\n",
       "        [5.5, 4.2, 1.4, 0.2],\n",
       "        [4.9, 3.1, 1.5, 0.2],\n",
       "        [5. , 3.2, 1.2, 0.2],\n",
       "        [5.5, 3.5, 1.3, 0.2],\n",
       "        [4.9, 3.6, 1.4, 0.1],\n",
       "        [4.4, 3. , 1.3, 0.2],\n",
       "        [5.1, 3.4, 1.5, 0.2],\n",
       "        [5. , 3.5, 1.3, 0.3],\n",
       "        [4.5, 2.3, 1.3, 0.3],\n",
       "        [4.4, 3.2, 1.3, 0.2],\n",
       "        [5. , 3.5, 1.6, 0.6],\n",
       "        [5.1, 3.8, 1.9, 0.4],\n",
       "        [4.8, 3. , 1.4, 0.3],\n",
       "        [5.1, 3.8, 1.6, 0.2],\n",
       "        [4.6, 3.2, 1.4, 0.2],\n",
       "        [5.3, 3.7, 1.5, 0.2],\n",
       "        [5. , 3.3, 1.4, 0.2],\n",
       "        [7. , 3.2, 4.7, 1.4],\n",
       "        [6.4, 3.2, 4.5, 1.5],\n",
       "        [6.9, 3.1, 4.9, 1.5],\n",
       "        [5.5, 2.3, 4. , 1.3],\n",
       "        [6.5, 2.8, 4.6, 1.5],\n",
       "        [5.7, 2.8, 4.5, 1.3],\n",
       "        [6.3, 3.3, 4.7, 1.6],\n",
       "        [4.9, 2.4, 3.3, 1. ],\n",
       "        [6.6, 2.9, 4.6, 1.3],\n",
       "        [5.2, 2.7, 3.9, 1.4],\n",
       "        [5. , 2. , 3.5, 1. ],\n",
       "        [5.9, 3. , 4.2, 1.5],\n",
       "        [6. , 2.2, 4. , 1. ],\n",
       "        [6.1, 2.9, 4.7, 1.4],\n",
       "        [5.6, 2.9, 3.6, 1.3],\n",
       "        [6.7, 3.1, 4.4, 1.4],\n",
       "        [5.6, 3. , 4.5, 1.5],\n",
       "        [5.8, 2.7, 4.1, 1. ],\n",
       "        [6.2, 2.2, 4.5, 1.5],\n",
       "        [5.6, 2.5, 3.9, 1.1],\n",
       "        [5.9, 3.2, 4.8, 1.8],\n",
       "        [6.1, 2.8, 4. , 1.3],\n",
       "        [6.3, 2.5, 4.9, 1.5],\n",
       "        [6.1, 2.8, 4.7, 1.2],\n",
       "        [6.4, 2.9, 4.3, 1.3],\n",
       "        [6.6, 3. , 4.4, 1.4],\n",
       "        [6.8, 2.8, 4.8, 1.4],\n",
       "        [6.7, 3. , 5. , 1.7],\n",
       "        [6. , 2.9, 4.5, 1.5],\n",
       "        [5.7, 2.6, 3.5, 1. ],\n",
       "        [5.5, 2.4, 3.8, 1.1],\n",
       "        [5.5, 2.4, 3.7, 1. ],\n",
       "        [5.8, 2.7, 3.9, 1.2],\n",
       "        [6. , 2.7, 5.1, 1.6],\n",
       "        [5.4, 3. , 4.5, 1.5],\n",
       "        [6. , 3.4, 4.5, 1.6],\n",
       "        [6.7, 3.1, 4.7, 1.5],\n",
       "        [6.3, 2.3, 4.4, 1.3],\n",
       "        [5.6, 3. , 4.1, 1.3],\n",
       "        [5.5, 2.5, 4. , 1.3],\n",
       "        [5.5, 2.6, 4.4, 1.2],\n",
       "        [6.1, 3. , 4.6, 1.4],\n",
       "        [5.8, 2.6, 4. , 1.2],\n",
       "        [5. , 2.3, 3.3, 1. ],\n",
       "        [5.6, 2.7, 4.2, 1.3],\n",
       "        [5.7, 3. , 4.2, 1.2],\n",
       "        [5.7, 2.9, 4.2, 1.3],\n",
       "        [6.2, 2.9, 4.3, 1.3],\n",
       "        [5.1, 2.5, 3. , 1.1],\n",
       "        [5.7, 2.8, 4.1, 1.3],\n",
       "        [6.3, 3.3, 6. , 2.5],\n",
       "        [5.8, 2.7, 5.1, 1.9],\n",
       "        [7.1, 3. , 5.9, 2.1],\n",
       "        [6.3, 2.9, 5.6, 1.8],\n",
       "        [6.5, 3. , 5.8, 2.2],\n",
       "        [7.6, 3. , 6.6, 2.1],\n",
       "        [4.9, 2.5, 4.5, 1.7],\n",
       "        [7.3, 2.9, 6.3, 1.8],\n",
       "        [6.7, 2.5, 5.8, 1.8],\n",
       "        [7.2, 3.6, 6.1, 2.5],\n",
       "        [6.5, 3.2, 5.1, 2. ],\n",
       "        [6.4, 2.7, 5.3, 1.9],\n",
       "        [6.8, 3. , 5.5, 2.1],\n",
       "        [5.7, 2.5, 5. , 2. ],\n",
       "        [5.8, 2.8, 5.1, 2.4],\n",
       "        [6.4, 3.2, 5.3, 2.3],\n",
       "        [6.5, 3. , 5.5, 1.8],\n",
       "        [7.7, 3.8, 6.7, 2.2],\n",
       "        [7.7, 2.6, 6.9, 2.3],\n",
       "        [6. , 2.2, 5. , 1.5],\n",
       "        [6.9, 3.2, 5.7, 2.3],\n",
       "        [5.6, 2.8, 4.9, 2. ],\n",
       "        [7.7, 2.8, 6.7, 2. ],\n",
       "        [6.3, 2.7, 4.9, 1.8],\n",
       "        [6.7, 3.3, 5.7, 2.1],\n",
       "        [7.2, 3.2, 6. , 1.8],\n",
       "        [6.2, 2.8, 4.8, 1.8],\n",
       "        [6.1, 3. , 4.9, 1.8],\n",
       "        [6.4, 2.8, 5.6, 2.1],\n",
       "        [7.2, 3. , 5.8, 1.6],\n",
       "        [7.4, 2.8, 6.1, 1.9],\n",
       "        [7.9, 3.8, 6.4, 2. ],\n",
       "        [6.4, 2.8, 5.6, 2.2],\n",
       "        [6.3, 2.8, 5.1, 1.5],\n",
       "        [6.1, 2.6, 5.6, 1.4],\n",
       "        [7.7, 3. , 6.1, 2.3],\n",
       "        [6.3, 3.4, 5.6, 2.4],\n",
       "        [6.4, 3.1, 5.5, 1.8],\n",
       "        [6. , 3. , 4.8, 1.8],\n",
       "        [6.9, 3.1, 5.4, 2.1],\n",
       "        [6.7, 3.1, 5.6, 2.4],\n",
       "        [6.9, 3.1, 5.1, 2.3],\n",
       "        [5.8, 2.7, 5.1, 1.9],\n",
       "        [6.8, 3.2, 5.9, 2.3],\n",
       "        [6.7, 3.3, 5.7, 2.5],\n",
       "        [6.7, 3. , 5.2, 2.3],\n",
       "        [6.3, 2.5, 5. , 1.9],\n",
       "        [6.5, 3. , 5.2, 2. ],\n",
       "        [6.2, 3.4, 5.4, 2.3],\n",
       "        [5.9, 3. , 5.1, 1.8]]),\n",
       " 'target': array([0, 0, 0, 0, 0, 0, 0, 0, 0, 0, 0, 0, 0, 0, 0, 0, 0, 0, 0, 0, 0, 0,\n",
       "        0, 0, 0, 0, 0, 0, 0, 0, 0, 0, 0, 0, 0, 0, 0, 0, 0, 0, 0, 0, 0, 0,\n",
       "        0, 0, 0, 0, 0, 0, 1, 1, 1, 1, 1, 1, 1, 1, 1, 1, 1, 1, 1, 1, 1, 1,\n",
       "        1, 1, 1, 1, 1, 1, 1, 1, 1, 1, 1, 1, 1, 1, 1, 1, 1, 1, 1, 1, 1, 1,\n",
       "        1, 1, 1, 1, 1, 1, 1, 1, 1, 1, 1, 1, 2, 2, 2, 2, 2, 2, 2, 2, 2, 2,\n",
       "        2, 2, 2, 2, 2, 2, 2, 2, 2, 2, 2, 2, 2, 2, 2, 2, 2, 2, 2, 2, 2, 2,\n",
       "        2, 2, 2, 2, 2, 2, 2, 2, 2, 2, 2, 2, 2, 2, 2, 2, 2, 2]),\n",
       " 'frame': None,\n",
       " 'target_names': array(['setosa', 'versicolor', 'virginica'], dtype='<U10'),\n",
       " 'DESCR': '.. _iris_dataset:\\n\\nIris plants dataset\\n--------------------\\n\\n**Data Set Characteristics:**\\n\\n    :Number of Instances: 150 (50 in each of three classes)\\n    :Number of Attributes: 4 numeric, predictive attributes and the class\\n    :Attribute Information:\\n        - sepal length in cm\\n        - sepal width in cm\\n        - petal length in cm\\n        - petal width in cm\\n        - class:\\n                - Iris-Setosa\\n                - Iris-Versicolour\\n                - Iris-Virginica\\n                \\n    :Summary Statistics:\\n\\n    ============== ==== ==== ======= ===== ====================\\n                    Min  Max   Mean    SD   Class Correlation\\n    ============== ==== ==== ======= ===== ====================\\n    sepal length:   4.3  7.9   5.84   0.83    0.7826\\n    sepal width:    2.0  4.4   3.05   0.43   -0.4194\\n    petal length:   1.0  6.9   3.76   1.76    0.9490  (high!)\\n    petal width:    0.1  2.5   1.20   0.76    0.9565  (high!)\\n    ============== ==== ==== ======= ===== ====================\\n\\n    :Missing Attribute Values: None\\n    :Class Distribution: 33.3% for each of 3 classes.\\n    :Creator: R.A. Fisher\\n    :Donor: Michael Marshall (MARSHALL%PLU@io.arc.nasa.gov)\\n    :Date: July, 1988\\n\\nThe famous Iris database, first used by Sir R.A. Fisher. The dataset is taken\\nfrom Fisher\\'s paper. Note that it\\'s the same as in R, but not as in the UCI\\nMachine Learning Repository, which has two wrong data points.\\n\\nThis is perhaps the best known database to be found in the\\npattern recognition literature.  Fisher\\'s paper is a classic in the field and\\nis referenced frequently to this day.  (See Duda & Hart, for example.)  The\\ndata set contains 3 classes of 50 instances each, where each class refers to a\\ntype of iris plant.  One class is linearly separable from the other 2; the\\nlatter are NOT linearly separable from each other.\\n\\n.. topic:: References\\n\\n   - Fisher, R.A. \"The use of multiple measurements in taxonomic problems\"\\n     Annual Eugenics, 7, Part II, 179-188 (1936); also in \"Contributions to\\n     Mathematical Statistics\" (John Wiley, NY, 1950).\\n   - Duda, R.O., & Hart, P.E. (1973) Pattern Classification and Scene Analysis.\\n     (Q327.D83) John Wiley & Sons.  ISBN 0-471-22361-1.  See page 218.\\n   - Dasarathy, B.V. (1980) \"Nosing Around the Neighborhood: A New System\\n     Structure and Classification Rule for Recognition in Partially Exposed\\n     Environments\".  IEEE Transactions on Pattern Analysis and Machine\\n     Intelligence, Vol. PAMI-2, No. 1, 67-71.\\n   - Gates, G.W. (1972) \"The Reduced Nearest Neighbor Rule\".  IEEE Transactions\\n     on Information Theory, May 1972, 431-433.\\n   - See also: 1988 MLC Proceedings, 54-64.  Cheeseman et al\"s AUTOCLASS II\\n     conceptual clustering system finds 3 classes in the data.\\n   - Many, many more ...',\n",
       " 'feature_names': ['sepal length (cm)',\n",
       "  'sepal width (cm)',\n",
       "  'petal length (cm)',\n",
       "  'petal width (cm)'],\n",
       " 'filename': 'C:\\\\Users\\\\ankan\\\\anaconda3\\\\lib\\\\site-packages\\\\sklearn\\\\datasets\\\\data\\\\iris.csv'}"
      ]
     },
     "execution_count": 12,
     "metadata": {},
     "output_type": "execute_result"
    }
   ],
   "source": [
    "iris"
   ]
  },
  {
   "cell_type": "code",
   "execution_count": 13,
   "id": "9c4b3a97",
   "metadata": {},
   "outputs": [
    {
     "name": "stdout",
     "output_type": "stream",
     "text": [
      "(150, 4)\n",
      "(150,)\n"
     ]
    }
   ],
   "source": [
    "X = iris.data\n",
    "Y = iris.target\n",
    "print(X.shape) # (150, 4). 1 for each of 150 instances. Each instance divided into 4 attributes [sepal length, sepal width, petal length, petal width]\n",
    "print(Y.shape) #150 outputs. 1 for each instance [0-setosa, 1-versicolour, 2-virginica]"
   ]
  },
  {
   "cell_type": "code",
   "execution_count": 14,
   "id": "1f0ca435",
   "metadata": {},
   "outputs": [],
   "source": [
    "#train_test_split\n",
    "from sklearn.model_selection import train_test_split\n",
    "\n",
    "X_train, X_test, Y_train, Y_test = train_test_split(X, Y, test_size=0.2, random_state=3) #20%"
   ]
  },
  {
   "cell_type": "code",
   "execution_count": 15,
   "id": "68899622",
   "metadata": {},
   "outputs": [
    {
     "name": "stdout",
     "output_type": "stream",
     "text": [
      "(120, 4)\n",
      "(30, 4)\n",
      "(120,)\n",
      "(30,)\n"
     ]
    }
   ],
   "source": [
    "print(X_train.shape)\n",
    "print(X_test.shape)\n",
    "print(Y_train.shape)\n",
    "print(Y_test.shape)"
   ]
  },
  {
   "cell_type": "markdown",
   "id": "020a06b0",
   "metadata": {},
   "source": [
    "# KNN Classification"
   ]
  },
  {
   "cell_type": "code",
   "execution_count": 16,
   "id": "4164e57c",
   "metadata": {},
   "outputs": [],
   "source": [
    "knn = neighbors.KNeighborsClassifier(5, weights='uniform') # assume 5 for now"
   ]
  },
  {
   "cell_type": "code",
   "execution_count": 17,
   "id": "1b42470b",
   "metadata": {},
   "outputs": [
    {
     "data": {
      "text/plain": [
       "KNeighborsClassifier()"
      ]
     },
     "execution_count": 17,
     "metadata": {},
     "output_type": "execute_result"
    }
   ],
   "source": [
    "knn.fit(X_train, Y_train)"
   ]
  },
  {
   "cell_type": "code",
   "execution_count": 18,
   "id": "a2bf618a",
   "metadata": {},
   "outputs": [
    {
     "name": "stdout",
     "output_type": "stream",
     "text": [
      "[0 0 0 0 0 2 1 0 2 1 1 0 1 1 2 0 2 2 2 0 2 2 2 1 0 2 2 1 1 1]\n",
      "30 are instances in testing. Total predictions: 30\n",
      "Accuracy: 0.9666666666666667\n"
     ]
    },
    {
     "data": {
      "text/plain": [
       "array([[10,  0,  0],\n",
       "       [ 0,  9,  1],\n",
       "       [ 0,  0, 10]], dtype=int64)"
      ]
     },
     "execution_count": 18,
     "metadata": {},
     "output_type": "execute_result"
    }
   ],
   "source": [
    "Y_pred = knn.predict(X_test)\n",
    "accuracy = metrics.accuracy_score(Y_test, Y_pred) #pretty self-explanatory line of code\n",
    "print(Y_pred)\n",
    "print(str(len(X_test)) + ' are instances in testing. Total predictions: ' + str(len(Y_pred)))\n",
    "print('Accuracy: ' + str(accuracy))\n",
    "cm = confusion_matrix(Y_test, Y_pred)\n",
    "cm"
   ]
  },
  {
   "cell_type": "code",
   "execution_count": 19,
   "id": "b7078ffd",
   "metadata": {
    "scrolled": true
   },
   "outputs": [
    {
     "name": "stdout",
     "output_type": "stream",
     "text": [
      "Actual: 0\n",
      "Predicted: 0\n",
      "-----------------------\n",
      "Actual: 0\n",
      "Predicted: 0\n",
      "-----------------------\n",
      "Actual: 0\n",
      "Predicted: 0\n",
      "-----------------------\n",
      "Actual: 0\n",
      "Predicted: 0\n",
      "-----------------------\n",
      "Actual: 0\n",
      "Predicted: 0\n",
      "-----------------------\n",
      "Actual: 2\n",
      "Predicted: 2\n",
      "-----------------------\n",
      "Actual: 1\n",
      "Predicted: 1\n",
      "-----------------------\n",
      "Actual: 0\n",
      "Predicted: 0\n",
      "-----------------------\n",
      "Actual: 2\n",
      "Predicted: 2\n",
      "-----------------------\n",
      "Actual: 1\n",
      "Predicted: 1\n",
      "-----------------------\n",
      "Actual: 1\n",
      "Predicted: 1\n",
      "-----------------------\n",
      "Actual: 0\n",
      "Predicted: 0\n",
      "-----------------------\n",
      "Actual: 1\n",
      "Predicted: 1\n",
      "-----------------------\n",
      "Actual: 1\n",
      "Predicted: 1\n",
      "-----------------------\n",
      "Actual: 2\n",
      "Predicted: 2\n",
      "-----------------------\n",
      "Actual: 0\n",
      "Predicted: 0\n",
      "-----------------------\n",
      "Actual: 1\n",
      "Predicted: 2\n",
      "-----------------------\n",
      "Actual: 2\n",
      "Predicted: 2\n",
      "-----------------------\n",
      "Actual: 2\n",
      "Predicted: 2\n",
      "-----------------------\n",
      "Actual: 0\n",
      "Predicted: 0\n",
      "-----------------------\n",
      "Actual: 2\n",
      "Predicted: 2\n",
      "-----------------------\n",
      "Actual: 2\n",
      "Predicted: 2\n",
      "-----------------------\n",
      "Actual: 2\n",
      "Predicted: 2\n",
      "-----------------------\n",
      "Actual: 1\n",
      "Predicted: 1\n",
      "-----------------------\n",
      "Actual: 0\n",
      "Predicted: 0\n",
      "-----------------------\n",
      "Actual: 2\n",
      "Predicted: 2\n",
      "-----------------------\n",
      "Actual: 2\n",
      "Predicted: 2\n",
      "-----------------------\n",
      "Actual: 1\n",
      "Predicted: 1\n",
      "-----------------------\n",
      "Actual: 1\n",
      "Predicted: 1\n",
      "-----------------------\n",
      "Actual: 1\n",
      "Predicted: 1\n",
      "-----------------------\n",
      "Wrong predictions: 1\n",
      "0.9666666666666667\n"
     ]
    }
   ],
   "source": [
    "#manual testing\n",
    "count = 0\n",
    "for i in range(len(Y_test)):\n",
    "    print('Actual: ' + str(Y_test[i]))\n",
    "    print('Predicted: ' + str(Y_pred[i]))  \n",
    "    if Y_pred[i] != Y_test[i]:\n",
    "        count +=1\n",
    "    print('-----------------------')\n",
    "print('Wrong predictions: ' + str(count))\n",
    "print(1-(count/len(Y_test))) #manual accuracy"
   ]
  },
  {
   "cell_type": "markdown",
   "id": "25dce60b",
   "metadata": {},
   "source": [
    "### Checking accuracy for diff. k-values from [1-15]"
   ]
  },
  {
   "cell_type": "code",
   "execution_count": 20,
   "id": "2c929fd5",
   "metadata": {},
   "outputs": [
    {
     "name": "stdout",
     "output_type": "stream",
     "text": [
      "0.9333333333333333 accuracy for k=1\n",
      "0.9333333333333333 accuracy for k=2\n",
      "0.9666666666666667 accuracy for k=3\n",
      "0.9666666666666667 accuracy for k=4\n",
      "0.9666666666666667 accuracy for k=5\n",
      "0.9666666666666667 accuracy for k=6\n",
      "0.9666666666666667 accuracy for k=7\n",
      "1.0 accuracy for k=8\n",
      "1.0 accuracy for k=9\n",
      "1.0 accuracy for k=10\n",
      "1.0 accuracy for k=11\n",
      "0.9666666666666667 accuracy for k=12\n",
      "1.0 accuracy for k=13\n",
      "1.0 accuracy for k=14\n",
      "1.0 accuracy for k=15\n"
     ]
    }
   ],
   "source": [
    "accuracy_list = []\n",
    "for i in range(1,16):\n",
    "    demo_model = neighbors.KNeighborsClassifier(i)\n",
    "    demo_model.fit(X_train, Y_train)\n",
    "    demo_Y_pred = demo_model.predict(X_test)\n",
    "    demo_accuracy = metrics.accuracy_score(Y_test, demo_Y_pred)\n",
    "    print(str(demo_accuracy) + ' accuracy for k=' + str(i))\n",
    "    # put them in list\n",
    "    accuracy_list.append(demo_accuracy)"
   ]
  },
  {
   "cell_type": "code",
   "execution_count": 21,
   "id": "01e71fad",
   "metadata": {},
   "outputs": [],
   "source": [
    "# getting x[k-value] and y[accuracies] values ready\n",
    "for i in range(len(accuracy_list)):\n",
    "    accuracy_list[i] = accuracy_list[i] * 100\n",
    "k_value = [x for x in range(1,16)]"
   ]
  },
  {
   "cell_type": "code",
   "execution_count": 22,
   "id": "25f09794",
   "metadata": {},
   "outputs": [
    {
     "data": {
      "text/plain": [
       "Text(0, 0.5, 'Accuracy')"
      ]
     },
     "execution_count": 22,
     "metadata": {},
     "output_type": "execute_result"
    },
    {
     "data": {
      "image/png": "[encoded data removed]",
      "text/plain": [
       "<Figure size 1440x864 with 1 Axes>"
      ]
     },
     "metadata": {
      "needs_background": "light"
     },
     "output_type": "display_data"
    }
   ],
   "source": [
    "from matplotlib import pyplot as plt\n",
    "\n",
    "plt.figure(figsize=(20,12))\n",
    "plt.plot(k_value, accuracy_list, linestyle='dashed', color=\"blue\",marker='o', markerfacecolor='green', markersize=12, linewidth=2)\n",
    "plt.xlabel('K_Values')\n",
    "plt.xticks(k_value)\n",
    "plt.ylabel('Accuracy')"
   ]
  },
  {
   "cell_type": "markdown",
   "id": "6234c6dc",
   "metadata": {},
   "source": [
    "### There's 100% accuracy for 8,9,10,11,13,14&15. Let's consider 11"
   ]
  },
  {
   "cell_type": "code",
   "execution_count": 41,
   "id": "7d05cce8",
   "metadata": {},
   "outputs": [
    {
     "name": "stdout",
     "output_type": "stream",
     "text": [
      "[0 0 0 0 0 2 1 0 2 1 1 0 1 1 2 0 1 2 2 0 2 2 2 1 0 2 2 1 1 1]\n",
      "[0 0 0 0 0 2 1 0 2 1 1 0 1 1 2 0 1 2 2 0 2 2 2 1 0 2 2 1 1 1]\n",
      "Accuracy: 100.0%\n"
     ]
    }
   ],
   "source": [
    "knn = neighbors.KNeighborsClassifier(11, weights='uniform')\n",
    "knn.fit(X_train, Y_train)\n",
    "Y_pred = knn.predict(X_test)\n",
    "accuracy = metrics.accuracy_score(Y_test, Y_pred) #pretty self-explanatory line of code\n",
    "print(Y_pred)\n",
    "print(Y_test)\n",
    "print('Accuracy: ' + str(accuracy*100) + '%')"
   ]
  },
  {
   "cell_type": "code",
   "execution_count": 42,
   "id": "89e0a53b",
   "metadata": {},
   "outputs": [
    {
     "data": {
      "text/plain": [
       "array([[10,  0,  0],\n",
       "       [ 0, 10,  0],\n",
       "       [ 0,  0, 10]], dtype=int64)"
      ]
     },
     "execution_count": 42,
     "metadata": {},
     "output_type": "execute_result"
    }
   ],
   "source": [
    "# Making the Confusion Matrix\n",
    "cm = confusion_matrix(Y_test, Y_pred)\n",
    "cm"
   ]
  },
  {
   "cell_type": "markdown",
   "id": "61a1bf64",
   "metadata": {},
   "source": [
    "----"
   ]
  },
  {
   "cell_type": "markdown",
   "id": "ab2e212e",
   "metadata": {},
   "source": [
    "## Decision Boundary\n",
    "\n"
   ]
  },
  {
   "cell_type": "code",
   "execution_count": 3,
   "id": "fd9d49f0",
   "metadata": {},
   "outputs": [],
   "source": [
    "# let's assume only 2 features (please)\n",
    "db_x = iris.data[:, :2]\n",
    "db_y = iris.target \n",
    "step = 0.02 # step-size for mesh grid"
   ]
  },
  {
   "cell_type": "code",
   "execution_count": 48,
   "id": "520695d0",
   "metadata": {},
   "outputs": [],
   "source": [
    "# creating color-maps\n",
    "from matplotlib.colors import ListedColormap\n",
    "cmap_light = ListedColormap([\"orange\", \"cyan\", \"cornflowerblue\"]) #for background\n",
    "cmap_bold = [\"darkorange\", \"c\", \"darkblue\"] #we don't want our points to merge with the background"
   ]
  },
  {
   "cell_type": "code",
   "execution_count": 5,
   "id": "31c1bffc",
   "metadata": {},
   "outputs": [
    {
     "data": {
      "text/plain": [
       "KNeighborsClassifier(n_neighbors=11)"
      ]
     },
     "execution_count": 5,
     "metadata": {},
     "output_type": "execute_result"
    }
   ],
   "source": [
    "#generating the classifier\n",
    "clf = knn = neighbors.KNeighborsClassifier(11, weights='uniform') #we know k=11 yields 100% accuracy\n",
    "clf.fit(db_x, db_y)"
   ]
  },
  {
   "cell_type": "code",
   "execution_count": 6,
   "id": "4dffb4ba",
   "metadata": {},
   "outputs": [],
   "source": [
    "#assign color to each point in meshgrid\n",
    "db_x_min, db_x_max = db_x[:, 0].min() - 1, db_x[:, 0].max() + 1\n",
    "db_y_min, db_y_max = db_x[:, 1].min() - 1, db_x[:, 1].max() + 1\n",
    "\n",
    "db_xx, db_yy = np.meshgrid(np.arange(db_x_min, db_x_max, step), np.arange(db_y_min, db_y_max, step))\n",
    "z = clf.predict(np.c_[db_xx.ravel(), db_yy.ravel()])\n",
    "z = z.reshape(db_xx.shape)"
   ]
  },
  {
   "cell_type": "code",
   "execution_count": 52,
   "id": "be852d7a",
   "metadata": {},
   "outputs": [
    {
     "name": "stderr",
     "output_type": "stream",
     "text": [
      "C:\\Users\\ankan\\anaconda3\\lib\\site-packages\\seaborn\\_decorators.py:36: FutureWarning: Pass the following variables as keyword args: x, y. From version 0.12, the only valid positional argument will be `data`, and passing other arguments without an explicit keyword will result in an error or misinterpretation.\n",
      "  warnings.warn(\n"
     ]
    },
    {
     "data": {
      "image/png": "[encoded data removed]",
      "text/plain": [
       "<Figure size 1152x720 with 1 Axes>"
      ]
     },
     "metadata": {
      "needs_background": "light"
     },
     "output_type": "display_data"
    }
   ],
   "source": [
    "#plotting\n",
    "import seaborn as sns\n",
    "plt.figure(figsize=(16,10))\n",
    "\n",
    "plt.contourf(db_xx, db_yy, z, cmap=cmap_light)\n",
    "\n",
    "# plt.scatter(db_x[:, 0], db_x[:, 1], cmap=cmap_bold, alpha=1.0, edgecolor=\"black\")\n",
    "sns.scatterplot(db_x[:, 0], db_x[:, 1], hue=iris.target_names[db_y], palette=cmap_bold, alpha=1.0, edgecolor=\"black\",)\n",
    "\n",
    "plt.xlim(db_xx.min(), db_xx.max())\n",
    "plt.ylim(db_yy.min(), db_yy.max())\n",
    "\n",
    "plt.title('KNN Classification')\n",
    "plt.xlabel(iris.feature_names[0], fontsize=16)\n",
    "plt.ylabel(iris.feature_names[1], fontsize=16)\n",
    "\n",
    "plt.show()"
   ]
  },
  {
   "cell_type": "markdown",
   "id": "ad1944cd",
   "metadata": {},
   "source": [
    "### Plotting for petal length vs. petal width"
   ]
  },
  {
   "cell_type": "code",
   "execution_count": 51,
   "id": "de425201",
   "metadata": {},
   "outputs": [
    {
     "name": "stderr",
     "output_type": "stream",
     "text": [
      "C:\\Users\\ankan\\anaconda3\\lib\\site-packages\\seaborn\\_decorators.py:36: FutureWarning: Pass the following variables as keyword args: x, y. From version 0.12, the only valid positional argument will be `data`, and passing other arguments without an explicit keyword will result in an error or misinterpretation.\n",
      "  warnings.warn(\n"
     ]
    },
    {
     "data": {
      "image/png": "[encoded data removed]",
      "text/plain": [
       "<Figure size 1152x720 with 1 Axes>"
      ]
     },
     "metadata": {
      "needs_background": "light"
     },
     "output_type": "display_data"
    }
   ],
   "source": [
    "#data\n",
    "db_x = iris.data[:, 2:]\n",
    "db_y = iris.target \n",
    "step\n",
    "\n",
    "#color maps\n",
    "from matplotlib.colors import ListedColormap\n",
    "cmap_light = ListedColormap([\"orange\", \"cyan\", \"cornflowerblue\"]) #for background\n",
    "cmap_bold = [\"darkorange\", \"c\", \"darkblue\"]\n",
    "\n",
    "#classification\n",
    "clf = knn = neighbors.KNeighborsClassifier(11, weights='uniform') #we know k=11 yields 100% accuracy\n",
    "clf.fit(db_x, db_y)\n",
    "\n",
    "#mesh grid\n",
    "db_x_min, db_x_max = db_x[:, 0].min() - 1, db_x[:, 0].max() + 1\n",
    "db_y_min, db_y_max = db_x[:, 1].min() - 1, db_x[:, 1].max() + 1\n",
    "db_xx, db_yy = np.meshgrid(np.arange(db_x_min, db_x_max, step), np.arange(db_y_min, db_y_max, step))\n",
    "z = clf.predict(np.c_[db_xx.ravel(), db_yy.ravel()])\n",
    "z = z.reshape(db_xx.shape)\n",
    "\n",
    "#plotting\n",
    "import seaborn as sns\n",
    "plt.figure(figsize=(16,10))\n",
    "\n",
    "plt.contourf(db_xx, db_yy, z, cmap=cmap_light)\n",
    "\n",
    "# plt.scatter(db_x[:, 0], db_x[:, 1], cmap=cmap_bold, alpha=1.0, edgecolor=\"black\")\n",
    "sns.scatterplot(db_x[:, 0], db_x[:, 1], hue=iris.target_names[db_y], palette=cmap_bold, alpha=1.0, edgecolor=\"black\",)\n",
    "\n",
    "plt.xlim(db_xx.min(), db_xx.max())\n",
    "plt.ylim(db_yy.min(), db_yy.max())\n",
    "\n",
    "plt.title('KNN Classification')\n",
    "plt.xlabel(iris.feature_names[2], fontsize=16)\n",
    "plt.ylabel(iris.feature_names[3], fontsize=16)\n",
    "\n",
    "plt.show()"
   ]
  },
  {
   "cell_type": "markdown",
   "id": "d38dd75b",
   "metadata": {},
   "source": [
    "----"
   ]
  },
  {
   "cell_type": "markdown",
   "id": "b5e337e6",
   "metadata": {},
   "source": [
    "[source](https://scikit-learn.org/stable/auto_examples/neighbors/plot_classification.html#sphx-glr-auto-examples-neighbors-plot-classification-py)"
   ]
  }
 ],
 "metadata": {
  "kernelspec": {
   "display_name": "Python 3",
   "language": "python",
   "name": "python3"
  },
  "language_info": {
   "codemirror_mode": {
    "name": "ipython",
    "version": 3
   },
   "file_extension": ".py",
   "mimetype": "text/x-python",
   "name": "python",
   "nbconvert_exporter": "python",
   "pygments_lexer": "ipython3",
   "version": "3.8.8"
  }
 },
 "nbformat": 4,
 "nbformat_minor": 5
}
